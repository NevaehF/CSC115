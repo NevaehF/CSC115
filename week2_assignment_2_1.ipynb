{
  "nbformat": 4,
  "nbformat_minor": 0,
  "metadata": {
    "colab": {
      "provenance": []
    },
    "kernelspec": {
      "name": "python3",
      "display_name": "Python 3"
    },
    "language_info": {
      "name": "python"
    }
  },
  "cells": [
    {
      "cell_type": "markdown",
      "source": [
        "**Python Practice**\n",
        "\n",
        "This assignment is to get started with a practice to Python for Data Science.\n",
        "\n",
        "Choose any 6 questions out of the questions below. 6 questions will be graded and the rest can be utilized for some practice."
      ],
      "metadata": {
        "id": "O2PrhW5BvC3E"
      }
    },
    {
      "cell_type": "markdown",
      "source": [
        "Create a string variable greeting containing \"Hello, \" and another variable name containing your name. Concatenate these variables to form a greeting message and print it"
      ],
      "metadata": {
        "id": "ujhMol3ubYaw"
      }
    },
    {
      "cell_type": "code",
      "source": [
        "#Im impressed with the simplicity of the codes compared to what I'm used to when dealing wit python and other languages.\n",
        "greeting = \"Hello,\"\n",
        "name = \"Nevaeh\"\n",
        "message = greeting+name\n",
        "print(message)"
      ],
      "metadata": {
        "id": "Ept6SexKCEwQ",
        "colab": {
          "base_uri": "https://localhost:8080/"
        },
        "outputId": "e983733d-9849-4d6d-83bb-1e8e6dbd0250"
      },
      "execution_count": null,
      "outputs": [
        {
          "output_type": "stream",
          "name": "stdout",
          "text": [
            "Hello,Nevaeh\n"
          ]
        }
      ]
    },
    {
      "cell_type": "markdown",
      "source": [
        "Write a Python program which accepts a sequence of comma-separated numbers\n",
        "from the user and generate a list with those numbers. Arrange them in ascending order"
      ],
      "metadata": {
        "id": "q6Q3a2icbfJb"
      }
    },
    {
      "cell_type": "code",
      "source": [
        "#Your answer must go here"
      ],
      "metadata": {
        "id": "v2MZd11TCT1Q"
      },
      "execution_count": null,
      "outputs": []
    },
    {
      "cell_type": "markdown",
      "source": [
        "Write a Python program to display the first and last letters from the given list of names: [\"Adam\",\"Alex\",\"Emmanuel\" ,\"Robert\", \"Finn\"]."
      ],
      "metadata": {
        "id": "tD9ZO5LqcPHJ"
      }
    },
    {
      "cell_type": "code",
      "source": [
        "## Definity wanted to make it look neater so I seperated the equil signs and yet it still looks a little cluttered lol\n",
        "\n",
        "names = [\"La'landra\", \"Ta'Corey\", \"Sarae\", \"Naiyalli\", \"Jasmine\"]\n",
        "for n in names:\n",
        "  first=n[0]\n",
        "  last=n[-1]\n",
        "  print(f\"{n}: First = {first}, Last = {last}\")"
      ],
      "metadata": {
        "id": "65y1fHv0CVXu",
        "colab": {
          "base_uri": "https://localhost:8080/"
        },
        "outputId": "05ffe21e-4aa6-467b-a5e8-cf12c2e4ec61"
      },
      "execution_count": null,
      "outputs": [
        {
          "output_type": "stream",
          "name": "stdout",
          "text": [
            "La'landra: First = L, Last = a\n",
            "Ta'Corey: First = T, Last = y\n",
            "Sarae: First = S, Last = e\n",
            "Naiyalli: First = N, Last = i\n",
            "Jasmine: First = J, Last = e\n"
          ]
        }
      ]
    },
    {
      "cell_type": "markdown",
      "source": [
        "Take a string as an input. Write a python program to create a new string using the first, middle, and last characters of the input string."
      ],
      "metadata": {
        "id": "VyB-z66Vcxjs"
      }
    },
    {
      "cell_type": "code",
      "source": [
        "#Your answer must go here"
      ],
      "metadata": {
        "id": "fywPaeQ9CWoQ"
      },
      "execution_count": null,
      "outputs": []
    },
    {
      "cell_type": "markdown",
      "source": [
        "Write a python program to take a string as an input and reverse it"
      ],
      "metadata": {
        "id": "4KoZnsVnc7K7"
      }
    },
    {
      "cell_type": "code",
      "source": [
        "# This One seemed the most interesting out of them all to me\n",
        "\n",
        "text=input(\"Enter a string: \")\n",
        "reversed_text=text[::-1]\n",
        "print(\"Reversed String: \", reversed_text)"
      ],
      "metadata": {
        "id": "-C4HsLcjCXwT",
        "colab": {
          "base_uri": "https://localhost:8080/"
        },
        "outputId": "cf8df975-a60e-4b8a-da72-15cba43eecee"
      },
      "execution_count": null,
      "outputs": [
        {
          "output_type": "stream",
          "name": "stdout",
          "text": [
            "Enter a string: Ridiculous\n",
            "Reversed String:  suolucidiR\n"
          ]
        }
      ]
    },
    {
      "cell_type": "markdown",
      "source": [
        "**Collections**"
      ],
      "metadata": {
        "id": "x-5HZ4ghtHf-"
      }
    },
    {
      "cell_type": "markdown",
      "source": [
        "Take an input of numbers in a list and create a new list containing only the even numbers from the original list."
      ],
      "metadata": {
        "id": "iGAnSQaMs-kU"
      }
    },
    {
      "cell_type": "code",
      "source": [
        "#Your answer must go here"
      ],
      "metadata": {
        "id": "du-AQi1jCema"
      },
      "execution_count": null,
      "outputs": []
    },
    {
      "cell_type": "markdown",
      "source": [
        "Take a list of strings (words) and create a new list containing the lengths of each word in the original list."
      ],
      "metadata": {
        "id": "2PHWbU8HtNO-"
      }
    },
    {
      "cell_type": "code",
      "source": [
        "words=[\"Rich\", \"Poor\", \"Real\", \"Fake\", \"Selfish\", \"Selfless\"]\n",
        "lengths=[len(word) for word in words]\n",
        "print(lengths)"
      ],
      "metadata": {
        "id": "S_vHvvR6Cfav",
        "colab": {
          "base_uri": "https://localhost:8080/"
        },
        "outputId": "797a17e7-40e8-4140-afab-c317d763dc8a"
      },
      "execution_count": null,
      "outputs": [
        {
          "output_type": "stream",
          "name": "stdout",
          "text": [
            "[4, 4, 4, 4, 7, 8]\n"
          ]
        }
      ]
    },
    {
      "cell_type": "markdown",
      "source": [
        "Create a dictionary student_grades with keys as student names and values as their respective grades. Find the student with the highest grade and print the output"
      ],
      "metadata": {
        "id": "8gzK9MNStgx5"
      }
    },
    {
      "cell_type": "code",
      "source": [
        "#I thought i can make it look a little more impressive if i threw in a close decimal\n",
        "student_grades= {\"Racheal\": 95.643, \"Chris\": 60, \"La'landra\": 88, \"Chrystal\": 95.642}\n",
        "top_student = max(student_grades, key= student_grades.get)\n",
        "print(f\"{top_student}: {student_grades[top_student]}\")"
      ],
      "metadata": {
        "id": "dcUL0Yj3CgVQ",
        "colab": {
          "base_uri": "https://localhost:8080/"
        },
        "outputId": "0badef54-0915-4bfe-e2f8-9931385d8b5d"
      },
      "execution_count": null,
      "outputs": [
        {
          "output_type": "stream",
          "name": "stdout",
          "text": [
            "Racheal: 95.643\n"
          ]
        }
      ]
    },
    {
      "cell_type": "markdown",
      "source": [
        "Define two sets, set1 and set2, containing some common elements. Remove the duplicate elements from set1 that are also present in set2."
      ],
      "metadata": {
        "id": "E1B78qP8tupG"
      }
    },
    {
      "cell_type": "code",
      "source": [
        "## The numbers 2 and 5 are not in set 2. Please let me know if i ended up just reading this wrong I will fix if needed\n",
        "set1= {6, 2, 3, 4, 5}\n",
        "set2= {3, 4, 8, 6, 7}\n",
        "set1 = set1 - set2\n",
        "print(set1)"
      ],
      "metadata": {
        "id": "yyD4jH4AChIl",
        "colab": {
          "base_uri": "https://localhost:8080/"
        },
        "outputId": "68cfa586-2724-4b13-b9d3-1d11b912d867"
      },
      "execution_count": null,
      "outputs": [
        {
          "output_type": "stream",
          "name": "stdout",
          "text": [
            "{2, 5}\n"
          ]
        }
      ]
    },
    {
      "cell_type": "markdown",
      "source": [
        "Create a dictionary word_count to count the occurrences of each word in a given sentence. Print the top 3 most common words along with their counts."
      ],
      "metadata": {
        "id": "2qhPexHqt0fv"
      }
    },
    {
      "cell_type": "code",
      "source": [
        "# I attempted this one and was lost"
      ],
      "metadata": {
        "id": "XmxnACB1CiUV"
      },
      "execution_count": null,
      "outputs": []
    }
  ]
}