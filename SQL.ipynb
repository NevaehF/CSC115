{
 "cells": [
  {
   "cell_type": "code",
   "execution_count": 1,
   "id": "a939d363-34a9-4e1b-85a0-5d50285bedc6",
   "metadata": {},
   "outputs": [],
   "source": [
    "### Import Pandas and load dataset \n",
    "\n",
    "import pandas as pd \n",
    "\n",
    "# load the dataset \n",
    "\n",
    "df = pd.read_csv(r\"Fast-Food Chains in USA.csv\")"
   ]
  },
  {
   "cell_type": "code",
   "execution_count": 6,
   "id": "996ebf4f-0570-4f5c-b386-1e31913fe62f",
   "metadata": {},
   "outputs": [],
   "source": [
    "# 1) Write a python code snippet using pandas to insert a new record into the dataset with the following details.Systemwide Sales: $1000 million, Average Sales per Unit: $400 thousand, Franchised Stores: 2000, Company Stores: 500, 2021 Total Units: 2500, Total Change in Units from 2020: 50 \n",
    "\n",
    "# INSERT NEW \"subway\" row \n",
    "df = pd.concat([\n",
    "    df,\n",
    "    pd.DataFrame([{\n",
    "        \"Fast-Food Chains\": \"Subway\",\n",
    "        \"U.S Systemwide Sales (Millions - U.S Dollars)\": 1000, \n",
    "        \"Average Sales per unit (Thousands - U.S Dollars)\": 400, \n",
    "        \"Franchised Stores\": 2000, \n",
    "        \"Company Stores\": 500, \n",
    "        \"2021 Total Units\": 2500, \n",
    "        \"Total Change in Units from 2020\": 50\n",
    "    }])\n",
    "], ignore_index = True)"
   ]
  },
  {
   "cell_type": "code",
   "execution_count": 9,
   "id": "ce619b1f-5714-43f8-877d-719870c4c7d7",
   "metadata": {},
   "outputs": [],
   "source": [
    "# 2) Write a Python code snippet using pandas to update the systemwide sales for the fast food chain with the name \"McDonald's\" to $40000 million.\n",
    "\n",
    "# UPDATE\n",
    "mc_mask = df[\"Fast-Food Chains\"].str.replace(\"'\", \"\", regex=False).eq(\"McDonald's\")\n",
    "df.loc[mc_mask, \"U.S Systematic Sales (Millions - U.S Dollars)\"] = 40000"
   ]
  },
  {
   "cell_type": "code",
   "execution_count": 10,
   "id": "caa8f4f0-e86e-4611-8eb2-f5709272546f",
   "metadata": {},
   "outputs": [
    {
     "name": "stdout",
     "output_type": "stream",
     "text": [
      "Top 10 by Avg Sales/Unit:\n",
      "    Fast-Food Chains  Average Sales per Unit (Thousands - U.S Dollars)\n",
      "6       Chick-fil-A                                            6100.0\n",
      "37   Raising Cane’s                                            4893.0\n",
      "24     Krispy Kreme                                            4000.0\n",
      "38      Shake Shack                                            3679.0\n",
      "46      Whataburger                                            3640.0\n",
      "28       McDonald’s                                            3420.0\n",
      "19  In-N-Out Burger                                            3200.0\n",
      "16        Five Guys                                            3172.0\n",
      "9          Culver’s                                            3099.0\n",
      "31     Panera Bread                                            2700.0 \n",
      "\n"
     ]
    }
   ],
   "source": [
    "# 3) Write a Python code snippet using pandas to retrieve the top 10 fastgood chains with the highest average sales per unit, ordered by average sales per unit in descending order. \n",
    "\n",
    "# TOP 10 by highest average sales per unit (descending order) \n",
    "top10 = (\n",
    "    df.sort_values(\"Average Sales per Unit (Thousands - U.S Dollars)\", ascending=False)\n",
    "    [[\"Fast-Food Chains\", \"Average Sales per Unit (Thousands - U.S Dollars)\"]].head(10)\n",
    ")\n",
    "print(\"Top 10 by Avg Sales/Unit:\\n\", top10, \"\\n\")"
   ]
  },
  {
   "cell_type": "code",
   "execution_count": 12,
   "id": "f0554e4d-6e21-4048-a1aa-0ccd3561de3b",
   "metadata": {},
   "outputs": [
    {
     "name": "stdout",
     "output_type": "stream",
     "text": [
      "Names + 2021 Total Units (sample):\n",
      "    Fast-Food Chains  2021 Total Units\n",
      "0            Arby’s              3409\n",
      "1    Baskin-Robbins              2317\n",
      "2         Bojangles               773\n",
      "3       Burger King              7105\n",
      "4        Carl’s Jr.              1058\n",
      "5  Checkers/Rally’s               834\n",
      "6       Chick-fil-A              2732\n",
      "7          Chipotle              2966\n",
      "8  Church’s Chicken               892\n",
      "9          Culver’s               837 \n",
      "\n"
     ]
    }
   ],
   "source": [
    "# 4) Write a Python code snippet using pandas to retrieve the names of all fast food chains along with their total units for 2021.  \n",
    "\n",
    "# Names + 2021 total units \n",
    "\n",
    "names_units = df[[\"Fast-Food Chains\", \"2021 Total Units\"]] \n",
    "print(\"Names + 2021 Total Units (sample):\\n\", names_units.head(10), \"\\n\")"
   ]
  },
  {
   "cell_type": "code",
   "execution_count": 16,
   "id": "9f3ebdaf-0bb6-4b99-9b42-a09a27b63cef",
   "metadata": {},
   "outputs": [
    {
     "name": "stdout",
     "output_type": "stream",
     "text": [
      "Franchised > Company (sample):\n",
      "     Fast-Food Chains  Franchised Stores  Company Stores\n",
      "0             Arby’s               2293            1116\n",
      "1     Baskin-Robbins               2317               0\n",
      "2          Bojangles                496             277\n",
      "3        Burger King               7054              51\n",
      "4         Carl’s Jr.               1011              47\n",
      "5   Checkers/Rally’s                568             266\n",
      "6        Chick-fil-A               2650              82\n",
      "8   Church’s Chicken                731             161\n",
      "9           Culver’s                831               6\n",
      "10       Dairy Queen               4337               2 \n",
      "\n"
     ]
    }
   ],
   "source": [
    "# 5) Write a Python code snippet using pandas to retrieve the names of all fast food chains that have more franchised stores than company stores. \n",
    "\n",
    "# Names where franchised > Company \n",
    "more_fr = df.loc[\n",
    "    df[\"Franchised Stores\"] > df[\"Company Stores\"],\n",
    "    [\"Fast-Food Chains\", \"Franchised Stores\", \"Company Stores\"]\n",
    "    ]\n",
    "print(\"Franchised > Company (sample):\\n\", more_fr.head(10), \"\\n\")\n"
   ]
  },
  {
   "cell_type": "code",
   "execution_count": null,
   "id": "f64bb741-d6eb-46aa-93a7-b90be21ae8f0",
   "metadata": {},
   "outputs": [],
   "source": [
    "# 6) Write a Python code snippet using pandas to delete all records from the dataset where the total change in units from 2020 is negative. \n",
    "\n",
    "# DELETE rows with negative change vs 2020 \n",
    "df_clean = df.loc[df[\"Total Change in Units from 2020\"] >= 0].copy()\n",
    "df_clean.to_csv(\"Fast-Food Chains - POST_DELETE.csv\", index=False)\n",
    "print(\"Saved cleaned data to: Fast-Food Chains - POST_DELETE.cs"
   ]
  }
 ],
 "metadata": {
  "kernelspec": {
   "display_name": "anaconda-2024.02-py310",
   "language": "python",
   "name": "conda-env-anaconda-2024.02-py310-py"
  },
  "language_info": {
   "codemirror_mode": {
    "name": "ipython",
    "version": 3
   },
   "file_extension": ".py",
   "mimetype": "text/x-python",
   "name": "python",
   "nbconvert_exporter": "python",
   "pygments_lexer": "ipython3",
   "version": "3.10.14"
  }
 },
 "nbformat": 4,
 "nbformat_minor": 5
}
