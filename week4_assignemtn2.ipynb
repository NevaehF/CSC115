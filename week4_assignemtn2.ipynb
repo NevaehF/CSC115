{
 "cells": [
  {
   "cell_type": "code",
   "execution_count": 13,
   "id": "47d80f21-15a2-4ef8-b230-19ad1f5ba00b",
   "metadata": {},
   "outputs": [],
   "source": [
    "### Perform a t-test to compare the sepal length iris species. \n",
    "## Calculate a 95% confidence interval for the petal length of the setosa species.\n",
    "## Compare the main sepal width between versicolor and virginica species using a hypothesis\n",
    "## Compare the correlation matrix between all pairs of freatures and visualize it. "
   ]
  },
  {
   "cell_type": "code",
   "execution_count": 14,
   "id": "eabdd9e1-796f-45db-afb6-50127933948f",
   "metadata": {},
   "outputs": [],
   "source": [
    "## First things first - import the libraries \n",
    "\n",
    "import pandas as pd # Tables (DataFrame) \n",
    "import numpy as np # basic math \n",
    "from scipy import stats # t-test & t critical value\n",
    "from sklearn.datasets import load_iris # Iris Dataset\n",
    "import matplotlib.pyplot as plt # data visualization"
   ]
  },
  {
   "cell_type": "code",
   "execution_count": 15,
   "id": "e4f3b078-599b-4bc2-a98d-bc2b694c7b34",
   "metadata": {},
   "outputs": [],
   "source": [
    "### Load the data \n",
    "\n",
    "iris = load_iris()\n",
    "df = pd.DataFrame(iris.data, columns = [\"sepal_length\", \"sepal_width\", \"petal_length\", \"petal_width\"])\n",
    "df[\"species\"] = pd.Categorical.from_codes(iris.target,iris.target_names) # add species names "
   ]
  },
  {
   "cell_type": "code",
   "execution_count": 16,
   "id": "86f6445f-3422-40f7-8114-fdbf49c03214",
   "metadata": {},
   "outputs": [
    {
     "name": "stdout",
     "output_type": "stream",
     "text": [
      "Sepal length - setosa vs versicolor t-test\n",
      " t= -10.521  p= 8.985235037487079e-18\n"
     ]
    }
   ],
   "source": [
    "### T-test - compare sepal length between 2 species (Pick any two species setosa vs Versicolor) \n",
    "\n",
    "a = df.loc[df[\"species\"]==\"setosa\", \"sepal_length\"] # Group A values \n",
    "b = df.loc[df[\"species\"]==\"versicolor\", \"sepal_length\"] # basic B values \n",
    "t_stat, p_val = stats.ttest_ind(a, b, equal_var=True) # basic t-test with equal variance\n",
    "print(\"Sepal length - setosa vs versicolor t-test\")\n",
    "print(\" t=\", round(t_stat,3), \" p=\", p_val) "
   ]
  },
  {
   "cell_type": "code",
   "execution_count": 17,
   "id": "341eb70a-3fca-4c08-964a-a93762aab558",
   "metadata": {},
   "outputs": [
    {
     "name": "stdout",
     "output_type": "stream",
     "text": [
      "Setosa petal length - 95% CI:  (1.413, 2, 3)\n"
     ]
    }
   ],
   "source": [
    "### 95% CI for petal length of setosa \n",
    "\n",
    "x = df.loc[df[\"species\"]==\"setosa\", \"petal_length\"] # data for CI \n",
    "n = x.size # Sample size \n",
    "m = x.mean() # mean \n",
    "sd = x.std(ddof=1) # standard deviation \n",
    "se = sd / np.sqrt(n) # Standard error\n",
    "t_stat = stats.t.ppf(0.975, df=n-1) # 95% two sided critical value \n",
    "ci_low, ci_high = m - t_stat*se, m + t_stat*se \n",
    "print(\"Setosa petal length - 95% CI: \", (round(ci_low, 3), round(ci_high), 3))"
   ]
  },
  {
   "cell_type": "code",
   "execution_count": 21,
   "id": "8934398a-fadd-488e-ac58-907387397c28",
   "metadata": {},
   "outputs": [
    {
     "name": "stdout",
     "output_type": "stream",
     "text": [
      "Sepal width - versicolor vs virginica t-test\n",
      " t= -3.206  p 0.0018191004238894803\n"
     ]
    }
   ],
   "source": [
    "### Compare the mean sepal width between versicolor and virginica species using a hypothesis test. \n",
    "# Another t-test\n",
    "\n",
    "v1 = df.loc[df[\"species\"]==\"versicolor\", \"sepal_width\"] # Group 1 \n",
    "v2 = df.loc[df[\"species\"]==\"virginica\", \"sepal_width\"] # Group 2\n",
    "t_sw, p_sw = stats.ttest_ind(v1, v2, equal_var=True)\n",
    "print(\"Sepal width - versicolor vs virginica t-test\")\n",
    "print(\" t=\", round(t_sw, 3), \" p\", p_sw)"
   ]
  },
  {
   "cell_type": "code",
   "execution_count": 22,
   "id": "f0fb8306-94f7-45c6-b902-f82c80cf7808",
   "metadata": {},
   "outputs": [
    {
     "name": "stdout",
     "output_type": "stream",
     "text": [
      "\n",
      "Correlation matrix:\n",
      "               sepal_length  sepal_width  petal_length  petal_width\n",
      "sepal_length         1.000       -0.118         0.872        0.818\n",
      "sepal_width         -0.118        1.000        -0.428       -0.366\n",
      "petal_length         0.872       -0.428         1.000        0.963\n",
      "petal_width          0.818       -0.366         0.963        1.000\n"
     ]
    }
   ],
   "source": [
    "### Compute the correlation matrix between all pairs of features and visualize it.\n",
    "\n",
    "cols = [\"sepal_length\", \"sepal_width\", \"petal_length\", \"petal_width\"]\n",
    "corr = df[cols].corr(numeric_only=True) # Pearson correlation \n",
    "print(\"\\nCorrelation matrix:\\n\", corr.round(3))"
   ]
  },
  {
   "cell_type": "code",
   "execution_count": null,
   "id": "6ede8a2e-e724-4eb5-8018-94d57425214c",
   "metadata": {},
   "outputs": [],
   "source": [
    "### Visualization (heat map) \n",
    "\n",
    "plt.figure(figsize=(5,4))\n",
    "plt.imshow(corr, interpolation=\"nearest\") # draw matrix \n",
    "plt.colorbar() # adds color \n",
    "plt.title(\"Iris Feature Correlation (Pearson)\")\n",
    "plt.xticks(range(len(cols)), cols, rotation=45, ha=\"right\") \n",
    "plt.yticks(range(len(cols)), cols)\n",
    "plt"
   ]
  },
  {
   "cell_type": "code",
   "execution_count": null,
   "id": "e23f642c-76a8-4f3c-85a9-a260bfb43d8b",
   "metadata": {},
   "outputs": [],
   "source": []
  }
 ],
 "metadata": {
  "kernelspec": {
   "display_name": "anaconda-2024.02-py310",
   "language": "python",
   "name": "conda-env-anaconda-2024.02-py310-py"
  },
  "language_info": {
   "codemirror_mode": {
    "name": "ipython",
    "version": 3
   },
   "file_extension": ".py",
   "mimetype": "text/x-python",
   "name": "python",
   "nbconvert_exporter": "python",
   "pygments_lexer": "ipython3",
   "version": "3.10.14"
  }
 },
 "nbformat": 4,
 "nbformat_minor": 5
}
