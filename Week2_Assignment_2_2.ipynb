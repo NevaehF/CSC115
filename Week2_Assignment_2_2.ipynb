{
  "nbformat": 4,
  "nbformat_minor": 0,
  "metadata": {
    "colab": {
      "provenance": [],
      "include_colab_link": true
    },
    "kernelspec": {
      "name": "python3",
      "display_name": "Python 3"
    },
    "language_info": {
      "name": "python"
    }
  },
  "cells": [
    {
      "cell_type": "markdown",
      "metadata": {
        "id": "view-in-github",
        "colab_type": "text"
      },
      "source": [
        "<a href=\"https://colab.research.google.com/github/NevaehF/CSC115/blob/main/Week2_Assignment_2_2.ipynb\" target=\"_parent\"><img src=\"https://colab.research.google.com/assets/colab-badge.svg\" alt=\"Open In Colab\"/></a>"
      ]
    },
    {
      "cell_type": "markdown",
      "source": [
        "Write a NumPy program to reshape this 1D array [1 2 3 4 5 6] into a 2D array with 2 rows."
      ],
      "metadata": {
        "id": "kz7jtNtR-HkY"
      }
    },
    {
      "cell_type": "code",
      "execution_count": 3,
      "metadata": {
        "id": "JuREvIZ6-MTw",
        "colab": {
          "base_uri": "https://localhost:8080/"
        },
        "outputId": "21d0db42-8961-4ae9-a888-f65acf0b64a8"
      },
      "outputs": [
        {
          "output_type": "stream",
          "name": "stdout",
          "text": [
            "[[1 2 3]\n",
            " [4 5 6]]\n"
          ]
        }
      ],
      "source": [
        "# Following along\n",
        "import numpy as np\n",
        "\n",
        "arr= np.array([1,2, 3, 4,5, 6])\n",
        "reshaped=arr.reshape(2, -2) #2 rows, infer columns(will be 3)\n",
        "print(reshaped)"
      ]
    },
    {
      "cell_type": "markdown",
      "source": [
        "Write a NumPy program to perform matrix multiplication between a 3x3 matrix and a 3x2 matrix"
      ],
      "metadata": {
        "id": "_kKotX90-Ltr"
      }
    },
    {
      "cell_type": "code",
      "execution_count": 4,
      "metadata": {
        "id": "KBE4Xatd-Na8",
        "colab": {
          "base_uri": "https://localhost:8080/"
        },
        "outputId": "bdd4323c-9fda-4d5e-c7e5-08b8a5bea9a2"
      },
      "outputs": [
        {
          "output_type": "stream",
          "name": "stdout",
          "text": [
            "[[22 28]\n",
            " [23 28]\n",
            " [23 34]]\n"
          ]
        }
      ],
      "source": [
        "import numpy as np\n",
        "\n",
        "A = np.array([\n",
        "    [1, 2, 3],\n",
        "    [0, 1, 4],\n",
        "    [5, 6, 0] ])  # 3x3\n",
        "\n",
        "B = np.array([\n",
        "    [1, 2],\n",
        "    [3, 4],\n",
        "    [5, 6] ])  # 3x2\n",
        "\n",
        "C = A @ B  # or np.matmul(A, B)\n",
        "print(C)"
      ]
    },
    {
      "cell_type": "markdown",
      "source": [
        "Write a NumPy program to find the most frequent value and the number of times it occured in the array\n",
        "\n",
        "\n",
        "[\n",
        "\n",
        "    [1, 2, 3, 2, 1],\n",
        "    [4, 2, 5, 2, 6],\n",
        "    [2, 1, 2, 3, 2],\n",
        "    [7, 2, 8, 2, 9]  \n",
        " ]"
      ],
      "metadata": {
        "id": "4AaHHXgP-U2H"
      }
    },
    {
      "cell_type": "code",
      "execution_count": 5,
      "metadata": {
        "id": "FE8o-YBf-efj",
        "colab": {
          "base_uri": "https://localhost:8080/"
        },
        "outputId": "9ba43b24-8a93-416e-da69-af72d1549acc"
      },
      "outputs": [
        {
          "output_type": "stream",
          "name": "stdout",
          "text": [
            "Most frequent value: 2\n",
            "Occurrences: 9\n"
          ]
        }
      ],
      "source": [
        "#The notes and instruction given are truly very helpful. I like that I am able to understand what things do as a whole and individually\n",
        "\n",
        "import numpy as np\n",
        "\n",
        "arr = np.array([\n",
        "    [1, 2, 3, 2, 1],\n",
        "    [4, 2, 5, 2, 6],\n",
        "    [2, 1, 2, 3, 2],\n",
        "    [7, 2, 8, 2, 9] ])\n",
        "\n",
        "values, counts = np.unique(arr, return_counts=True)\n",
        "max_idx = counts.argmax()\n",
        "mode_value = values[max_idx]\n",
        "mode_count = counts[max_idx]\n",
        "\n",
        "print(\"Most frequent value:\", mode_value)\n",
        "print(\"Occurrences:\", mode_count)"
      ]
    },
    {
      "cell_type": "markdown",
      "source": [
        "Given a NumPy array representing a dataset with missing values, write a program to replace all the missing values (NaNs) with the mean of the respective column.\n",
        "\n",
        "[  [ 1.  2. nan  4.  5.],\n",
        "\n",
        " [ 6. nan  8.  9. 10.],\n",
        "\n",
        " [11. 12. 13. nan 15.],\n",
        "\n",
        " [16. 17. nan 19. 20.],\n",
        "\n",
        " [nan 22. 23. 24. 25.]  ]"
      ],
      "metadata": {
        "id": "_dN47xLJ-jDC"
      }
    },
    {
      "cell_type": "code",
      "execution_count": 6,
      "metadata": {
        "id": "NItipXf4-qX7",
        "colab": {
          "base_uri": "https://localhost:8080/"
        },
        "outputId": "7e6bd3bd-9084-4973-9ede-409594f19b76"
      },
      "outputs": [
        {
          "output_type": "stream",
          "name": "stdout",
          "text": [
            "[[ 1.          2.         14.66666667  4.          5.        ]\n",
            " [ 6.         13.25        8.          9.         10.        ]\n",
            " [11.         12.         13.         14.         15.        ]\n",
            " [16.         17.         14.66666667 19.         20.        ]\n",
            " [ 8.5        22.         23.         24.         25.        ]]\n"
          ]
        }
      ],
      "source": [
        "import numpy as np\n",
        "\n",
        "data = np.array([\n",
        "    [ 1.,  2.,  np.nan,  4.,  5.],\n",
        "    [ 6.,  np.nan,  8.,  9., 10.],\n",
        "    [11., 12., 13.,  np.nan, 15.],\n",
        "    [16., 17.,  np.nan, 19., 20.],\n",
        "    [ np.nan, 22., 23., 24., 25.] ], dtype=float)\n",
        "\n",
        "col_means = np.nanmean(data, axis=0)         # mean per column, ignoring NaNs\n",
        "nan_rows, nan_cols = np.where(np.isnan(data)) # These are the coordinates of NaNs\n",
        "data[nan_rows, nan_cols] = col_means[nan_cols]  # fill with column means\n",
        "print(data)"
      ]
    },
    {
      "cell_type": "markdown",
      "source": [
        "Write a program that takes a NumPy array representing a dataset with a column of dates and create a new column extracting the month of each date.\n",
        "\n",
        "np.array([\n",
        "\n",
        "    ('2024-01-15', 10, 100),\n",
        "    ('2024-02-28', 15, 150),\n",
        "    ('2024-03-10', 20, 200),\n",
        "    ('2024-04-22', 25, 250),\n",
        "    ('2024-05-05', 30, 300),\n",
        "    ('2024-06-18', 35, 350),\n",
        "    ('2024-07-30', 40, 400),\n",
        "    ('2024-08-12', 45, 450),\n",
        "    ('2024-09-25', 50, 500),\n",
        "    ('2024-10-07', 55, 550)\n",
        "]"
      ],
      "metadata": {
        "id": "xOZ-z86J-l-q"
      }
    },
    {
      "cell_type": "code",
      "execution_count": 7,
      "metadata": {
        "id": "HOzzT0QO-qrM",
        "colab": {
          "base_uri": "https://localhost:8080/"
        },
        "outputId": "86128463-d372-45a8-dcbc-b3a43664e8ed"
      },
      "outputs": [
        {
          "output_type": "stream",
          "name": "stdout",
          "text": [
            "[['2024-01-15' 10 100 1]\n",
            " ['2024-02-28' 15 150 2]\n",
            " ['2024-03-10' 20 200 3]\n",
            " ['2024-04-22' 25 250 4]\n",
            " ['2024-05-05' 30 300 5]\n",
            " ['2024-06-18' 35 350 6]\n",
            " ['2024-07-30' 40 400 7]\n",
            " ['2024-08-12' 45 450 8]\n",
            " ['2024-09-25' 50 500 9]\n",
            " ['2024-10-07' 55 550 10]]\n"
          ]
        }
      ],
      "source": [
        "import numpy as np\n",
        "\n",
        "data = np.array([\n",
        "    ('2024-01-15', 10, 100),\n",
        "    ('2024-02-28', 15, 150),\n",
        "    ('2024-03-10', 20, 200),\n",
        "    ('2024-04-22', 25, 250),\n",
        "    ('2024-05-05', 30, 300),\n",
        "    ('2024-06-18', 35, 350),\n",
        "    ('2024-07-30', 40, 400),\n",
        "    ('2024-08-12', 45, 450),\n",
        "    ('2024-09-25', 50, 500),\n",
        "    ('2024-10-07', 55, 550) ], dtype=object)\n",
        "\n",
        "# We need to extract the date column and convert to datetime64\n",
        "dates = data[:, 0].astype('datetime64[D]')\n",
        "\n",
        "# Next we need to convert to month precision and get month number (1–12)\n",
        "months = (dates.astype('datetime64[M]').astype(int) % 12) + 1\n",
        "\n",
        "# Then append as a new column (object dtype to mix types)\n",
        "result = np.column_stack((data, months))\n",
        "print(result)\n",
        "\n",
        "# Each row then becomes: (date_str, val1, val2, month_number)"
      ]
    }
  ]
}