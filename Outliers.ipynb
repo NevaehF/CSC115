{
 "cells": [
  {
   "cell_type": "code",
   "execution_count": 12,
   "id": "f6116eda-8145-4465-82a2-07ef3f1d2b5f",
   "metadata": {
    "panel-layout": {
     "height": 829.2,
     "visible": true,
     "width": 100
    }
   },
   "outputs": [
    {
     "data": {
      "text/html": [
       "<div>\n",
       "<style scoped>\n",
       "    .dataframe tbody tr th:only-of-type {\n",
       "        vertical-align: middle;\n",
       "    }\n",
       "\n",
       "    .dataframe tbody tr th {\n",
       "        vertical-align: top;\n",
       "    }\n",
       "\n",
       "    .dataframe thead th {\n",
       "        text-align: right;\n",
       "    }\n",
       "</style>\n",
       "<table border=\"1\" class=\"dataframe\">\n",
       "  <thead>\n",
       "    <tr style=\"text-align: right;\">\n",
       "      <th></th>\n",
       "      <th>Order Value</th>\n",
       "      <th>Customer Rating</th>\n",
       "      <th>Shipping Time (Days)</th>\n",
       "    </tr>\n",
       "  </thead>\n",
       "  <tbody>\n",
       "    <tr>\n",
       "      <th>0</th>\n",
       "      <td>109.934283</td>\n",
       "      <td>3.699147</td>\n",
       "      <td>2</td>\n",
       "    </tr>\n",
       "    <tr>\n",
       "      <th>1</th>\n",
       "      <td>97.234714</td>\n",
       "      <td>4.926139</td>\n",
       "      <td>1</td>\n",
       "    </tr>\n",
       "    <tr>\n",
       "      <th>2</th>\n",
       "      <td>112.953771</td>\n",
       "      <td>3.993251</td>\n",
       "      <td>7</td>\n",
       "    </tr>\n",
       "    <tr>\n",
       "      <th>3</th>\n",
       "      <td>130.460597</td>\n",
       "      <td>NaN</td>\n",
       "      <td>7</td>\n",
       "    </tr>\n",
       "    <tr>\n",
       "      <th>4</th>\n",
       "      <td>NaN</td>\n",
       "      <td>1.000000</td>\n",
       "      <td>8</td>\n",
       "    </tr>\n",
       "    <tr>\n",
       "      <th>5</th>\n",
       "      <td>95.317261</td>\n",
       "      <td>NaN</td>\n",
       "      <td>5</td>\n",
       "    </tr>\n",
       "    <tr>\n",
       "      <th>6</th>\n",
       "      <td>400.000000</td>\n",
       "      <td>4.104432</td>\n",
       "      <td>3</td>\n",
       "    </tr>\n",
       "    <tr>\n",
       "      <th>7</th>\n",
       "      <td>700.000000</td>\n",
       "      <td>3.020165</td>\n",
       "      <td>8</td>\n",
       "    </tr>\n",
       "    <tr>\n",
       "      <th>8</th>\n",
       "      <td>90.610512</td>\n",
       "      <td>3.335907</td>\n",
       "      <td>6</td>\n",
       "    </tr>\n",
       "    <tr>\n",
       "      <th>9</th>\n",
       "      <td>350.000000</td>\n",
       "      <td>NaN</td>\n",
       "      <td>3</td>\n",
       "    </tr>\n",
       "    <tr>\n",
       "      <th>10</th>\n",
       "      <td>90.731646</td>\n",
       "      <td>4.369233</td>\n",
       "      <td>1</td>\n",
       "    </tr>\n",
       "    <tr>\n",
       "      <th>11</th>\n",
       "      <td>90.685405</td>\n",
       "      <td>4.085684</td>\n",
       "      <td>3</td>\n",
       "    </tr>\n",
       "    <tr>\n",
       "      <th>12</th>\n",
       "      <td>450.000000</td>\n",
       "      <td>3.942176</td>\n",
       "      <td>5</td>\n",
       "    </tr>\n",
       "    <tr>\n",
       "      <th>13</th>\n",
       "      <td>400.000000</td>\n",
       "      <td>1.000000</td>\n",
       "      <td>3</td>\n",
       "    </tr>\n",
       "    <tr>\n",
       "      <th>14</th>\n",
       "      <td>65.501643</td>\n",
       "      <td>5.000000</td>\n",
       "      <td>1</td>\n",
       "    </tr>\n",
       "    <tr>\n",
       "      <th>15</th>\n",
       "      <td>NaN</td>\n",
       "      <td>0.500000</td>\n",
       "      <td>5</td>\n",
       "    </tr>\n",
       "    <tr>\n",
       "      <th>16</th>\n",
       "      <td>79.743378</td>\n",
       "      <td>3.769681</td>\n",
       "      <td>7</td>\n",
       "    </tr>\n",
       "    <tr>\n",
       "      <th>17</th>\n",
       "      <td>300.000000</td>\n",
       "      <td>NaN</td>\n",
       "      <td>7</td>\n",
       "    </tr>\n",
       "    <tr>\n",
       "      <th>18</th>\n",
       "      <td>81.839518</td>\n",
       "      <td>NaN</td>\n",
       "      <td>9</td>\n",
       "    </tr>\n",
       "    <tr>\n",
       "      <th>19</th>\n",
       "      <td>71.753926</td>\n",
       "      <td>3.118480</td>\n",
       "      <td>3</td>\n",
       "    </tr>\n",
       "    <tr>\n",
       "      <th>20</th>\n",
       "      <td>129.312975</td>\n",
       "      <td>5.500000</td>\n",
       "      <td>7</td>\n",
       "    </tr>\n",
       "    <tr>\n",
       "      <th>21</th>\n",
       "      <td>95.484474</td>\n",
       "      <td>3.807459</td>\n",
       "      <td>1</td>\n",
       "    </tr>\n",
       "    <tr>\n",
       "      <th>22</th>\n",
       "      <td>NaN</td>\n",
       "      <td>3.661539</td>\n",
       "      <td>4</td>\n",
       "    </tr>\n",
       "    <tr>\n",
       "      <th>23</th>\n",
       "      <td>NaN</td>\n",
       "      <td>4.305838</td>\n",
       "      <td>4</td>\n",
       "    </tr>\n",
       "    <tr>\n",
       "      <th>24</th>\n",
       "      <td>89.112346</td>\n",
       "      <td>4.515500</td>\n",
       "      <td>5</td>\n",
       "    </tr>\n",
       "    <tr>\n",
       "      <th>25</th>\n",
       "      <td>102.218452</td>\n",
       "      <td>4.465640</td>\n",
       "      <td>7</td>\n",
       "    </tr>\n",
       "    <tr>\n",
       "      <th>26</th>\n",
       "      <td>NaN</td>\n",
       "      <td>3.580391</td>\n",
       "      <td>7</td>\n",
       "    </tr>\n",
       "    <tr>\n",
       "      <th>27</th>\n",
       "      <td>107.513960</td>\n",
       "      <td>3.845394</td>\n",
       "      <td>4</td>\n",
       "    </tr>\n",
       "    <tr>\n",
       "      <th>28</th>\n",
       "      <td>NaN</td>\n",
       "      <td>4.165632</td>\n",
       "      <td>7</td>\n",
       "    </tr>\n",
       "    <tr>\n",
       "      <th>29</th>\n",
       "      <td>300.000000</td>\n",
       "      <td>4.487773</td>\n",
       "      <td>3</td>\n",
       "    </tr>\n",
       "  </tbody>\n",
       "</table>\n",
       "</div>"
      ],
      "text/plain": [
       "    Order Value  Customer Rating  Shipping Time (Days)\n",
       "0    109.934283         3.699147                     2\n",
       "1     97.234714         4.926139                     1\n",
       "2    112.953771         3.993251                     7\n",
       "3    130.460597              NaN                     7\n",
       "4           NaN         1.000000                     8\n",
       "5     95.317261              NaN                     5\n",
       "6    400.000000         4.104432                     3\n",
       "7    700.000000         3.020165                     8\n",
       "8     90.610512         3.335907                     6\n",
       "9    350.000000              NaN                     3\n",
       "10    90.731646         4.369233                     1\n",
       "11    90.685405         4.085684                     3\n",
       "12   450.000000         3.942176                     5\n",
       "13   400.000000         1.000000                     3\n",
       "14    65.501643         5.000000                     1\n",
       "15          NaN         0.500000                     5\n",
       "16    79.743378         3.769681                     7\n",
       "17   300.000000              NaN                     7\n",
       "18    81.839518              NaN                     9\n",
       "19    71.753926         3.118480                     3\n",
       "20   129.312975         5.500000                     7\n",
       "21    95.484474         3.807459                     1\n",
       "22          NaN         3.661539                     4\n",
       "23          NaN         4.305838                     4\n",
       "24    89.112346         4.515500                     5\n",
       "25   102.218452         4.465640                     7\n",
       "26          NaN         3.580391                     7\n",
       "27   107.513960         3.845394                     4\n",
       "28          NaN         4.165632                     7\n",
       "29   300.000000         4.487773                     3"
      ]
     },
     "execution_count": 12,
     "metadata": {},
     "output_type": "execute_result"
    }
   ],
   "source": [
    "# Run this cell first and then answer the questions given in the assignment.\n",
    "\n",
    "import numpy as np\n",
    "import pandas as pd\n",
    "\n",
    "np.random.seed(42)\n",
    "\n",
    "# Generating sample data\n",
    "data = {\n",
    "    'Order Value': np.random.normal(100, 20, 30),\n",
    "    'Customer Rating': np.random.normal(4, 0.5, 30),\n",
    "    'Shipping Time (Days)': np.random.randint(1, 10, 30)\n",
    "}\n",
    "\n",
    "# Introducing missing values and outliers on purpose\n",
    "data['Order Value'][np.random.choice(30, 8, replace=False)] = np.nan\n",
    "data['Customer Rating'][np.random.choice(30, 7, replace=False)] = np.nan\n",
    "\n",
    "data['Order Value'][np.random.choice(30, 7, replace=False)] = [300, 400, 300, 350, 400, 450, 700]\n",
    "data['Customer Rating'][np.random.choice(30, 5, replace=False)] = [1, 5, 0.5, 5.5, 1]\n",
    "\n",
    "# Convert to DataFrame\n",
    "df = pd.DataFrame(data)\n",
    "\n",
    "# Display the DataFrame\n",
    "df"
   ]
  },
  {
   "cell_type": "code",
   "execution_count": 3,
   "id": "a2f6aca7-51ad-4f02-a14f-58859ed10784",
   "metadata": {
    "panel-layout": {
     "height": 0,
     "visible": true,
     "width": 100
    }
   },
   "outputs": [
    {
     "name": "stdout",
     "output_type": "stream",
     "text": [
      "\n",
      "=== Missing Value Count Per Column ===\n",
      "Order Value             6\n",
      "Customer Rating         5\n",
      "Shipping Time (Days)    0\n",
      "dtype: int64\n"
     ]
    }
   ],
   "source": [
    "## Use pandas to identify and count the number of missing values in the dataset.\n",
    "\n",
    "# isna() returns a boolean mask of whether each cell is missing; sum() count missing values per column \n",
    "missing_counts = df.isna().sum()\n",
    "print(\"\\n=== Missing Value Count Per Column ===\")\n",
    "print(missing_counts)"
   ]
  },
  {
   "cell_type": "code",
   "execution_count": 25,
   "id": "f7f2dd7a-4cdd-46ac-8df9-22d846043d59",
   "metadata": {},
   "outputs": [
    {
     "name": "stdout",
     "output_type": "stream",
     "text": [
      "\n",
      "=== Missing Value Summary (Count & %) ===\n",
      "                      missing_counts  missing_pct\n",
      "Order Value                        6          600\n",
      "Customer Rating                    5          500\n",
      "Shipping Time (Days)               0            0\n"
     ]
    }
   ],
   "source": [
    "## Generate a summary table showing the percentage of missing values for each feature. \n",
    "\n",
    "missing_pct = df.isna().sum() * 100 \n",
    "missing_summary = pd.DataFrame({\n",
    "    \"missing_counts\": missing_counts, \n",
    "    \"missing_pct\": missing_pct.round(2) \n",
    "})\n",
    "print(\"\\n=== Missing Value Summary (Count & %) ===\")\n",
    "print(missing_summary) \n"
   ]
  },
  {
   "cell_type": "code",
   "execution_count": 26,
   "id": "198bc9c7-6b8a-4272-9044-7256bc30236d",
   "metadata": {},
   "outputs": [
    {
     "name": "stdout",
     "output_type": "stream",
     "text": [
      "\n",
      " === Strategy A: Drop Rows with Any NaNs ===\n",
      "new shape: (19, 3)\n",
      "Remaining NaNs: \n",
      " Order Value             0\n",
      "Customer Rating         0\n",
      "Shipping Time (Days)    0\n",
      "dtype: int64\n"
     ]
    }
   ],
   "source": [
    "## Implement different strategies for handling missing data like drop rows or columns with missing values \n",
    "\n",
    "# Strategy A - Dropping rows with ANY missing values \n",
    "df_drop_rows = df.dropna() # .dropna() remove any row that has at least one row \n",
    "print(\"\\n === Strategy A: Drop Rows with Any NaNs ===\") \n",
    "print(\"new shape:\", df_drop_rows.shape)\n",
    "print(\"Remaining NaNs: \\n\", df_drop_rows.isna().sum())"
   ]
  },
  {
   "cell_type": "code",
   "execution_count": 28,
   "id": "b1d13d2c-7233-4bab-a4c5-97c6beaa92a1",
   "metadata": {},
   "outputs": [
    {
     "name": "stdout",
     "output_type": "stream",
     "text": [
      "\n",
      "=== Strategy B: Fill with the Mean ===\n",
      "Remaining NaNs:\n",
      " Order Value             0\n",
      "Customer Rating         0\n",
      "Shipping Time (Days)    0\n",
      "dtype: int64\n"
     ]
    }
   ],
   "source": [
    "## Strategy B - Implementing rows with NaNs with the mean \n",
    "\n",
    "df_fill_mean = df.copy()\n",
    "df_fill_mean = df_fill_mean.fillna(df_fill_mean.mean(numeric_only=True)) # .fillna() fill the missing values with the mean\n",
    "print(\"\\n=== Strategy B: Fill with the Mean ===\")\n",
    "print(\"Remaining NaNs:\\n\", df_fill_mean.isna().sum())"
   ]
  },
  {
   "cell_type": "code",
   "execution_count": 29,
   "id": "be03fe6b-afe9-404a-acd0-e72f0b143560",
   "metadata": {},
   "outputs": [
    {
     "name": "stdout",
     "output_type": "stream",
     "text": [
      "\n",
      "=== Strategy C: Fill NaNs with Medians ===\n",
      "Remaining NaNs:\n",
      " Order Value             0\n",
      "Customer Rating         0\n",
      "Shipping Time (Days)    0\n",
      "dtype: int64\n"
     ]
    }
   ],
   "source": [
    "## Strategy C: Implementing Rows with NaNs with median \n",
    "df_fill_median = df.copy()\n",
    "df_fill_median = df_fill_median.fillna(df_fill_median.median(numeric_only=True))\n",
    "print(\"\\n=== Strategy C: Fill NaNs with Medians ===\")\n",
    "print(\"Remaining NaNs:\\n\", df_fill_median.isna().sum())"
   ]
  },
  {
   "cell_type": "code",
   "execution_count": 34,
   "id": "9c7453f9-da8f-4947-a119-634f28e67098",
   "metadata": {},
   "outputs": [
    {
     "name": "stdout",
     "output_type": "stream",
     "text": [
      "\n",
      " === Strategy D: Fill NaNs with Mode ===\n",
      "Remaining NaNs:\n",
      " Order Value             0\n",
      "Customer Rating         0\n",
      "Shipping Time (Days)    0\n",
      "dtype: int64\n"
     ]
    }
   ],
   "source": [
    "## Strategy D: Implementing row with NaNs with mode \n",
    "\n",
    "df_fill_mode = df.copy()\n",
    "mode_values = df_fill_mode.mode(numeric_only=True).iloc[0] # for the first most common mode per column\n",
    "df_fill_mode = df_fill_mode.fillna(mode_values)\n",
    "print(\"\\n === Strategy D: Fill NaNs with Mode ===\")\n",
    "print(\"Remaining NaNs:\\n\", df_fill_mode.isna().sum())"
   ]
  },
  {
   "cell_type": "code",
   "execution_count": 36,
   "id": "b2029911-a11d-499b-9085-6d954b51a1a8",
   "metadata": {},
   "outputs": [
    {
     "name": "stdout",
     "output_type": "stream",
     "text": [
      "\n",
      "=== Quick Strategy Comparison ===\n",
      "{'Original Shape': (30, 3), 'drop_rows_shape': (19, 3), 'fill_mean_remaining_nans': 0, 'fill_median_remaining_nans': 0, 'fill_mode_remaining_nans': 0}\n"
     ]
    }
   ],
   "source": [
    "## Quick Comparison of how many rows remain (drop strategies) vs how many NaNs remain (fill strategies) \n",
    "print(\"\\n=== Quick Strategy Comparison ===\")\n",
    "print({\n",
    "    \"Original Shape\": df.shape, \n",
    "    \"drop_rows_shape\": df_drop_rows.shape, \n",
    "    \"fill_mean_remaining_nans\": int(df_fill_mean.isna().sum().sum()),\n",
    "    \"fill_median_remaining_nans\": int(df_fill_median.isna().sum().sum()),\n",
    "    \"fill_mode_remaining_nans\": int(df_fill_mode.isna().sum().sum()), \n",
    "})"
   ]
  },
  {
   "cell_type": "code",
   "execution_count": 38,
   "id": "6635e06a-b7d7-4cc4-a43e-b14dc0e0d379",
   "metadata": {},
   "outputs": [
    {
     "name": "stdout",
     "output_type": "stream",
     "text": [
      "n\\ === Plotting Histogram ===\n"
     ]
    },
    {
     "data": {
      "image/png": "[encoded data removed]",
      "text/plain": [
       "<Figure size 800x600 with 4 Axes>"
      ]
     },
     "metadata": {},
     "output_type": "display_data"
    }
   ],
   "source": [
    "## Visualize the distribution of each feature using box plots, histograms, and scatter plots. \n",
    "import matplotlib.pyplot as plt \n",
    "\n",
    "# Histograms \n",
    "print(\"n\\ === Plotting Histogram ===\") \n",
    "df.hist(bins=10, figsize=(8,6))\n",
    "plt.tight_layout()\n",
    "plt.show()"
   ]
  },
  {
   "cell_type": "code",
   "execution_count": 51,
   "id": "08e25636-883a-4665-b4b2-8b1f109eb587",
   "metadata": {},
   "outputs": [
    {
     "name": "stdout",
     "output_type": "stream",
     "text": [
      "n=== Z-Score Outlier Detection (on MEDIAN-imputed data) ===\n",
      "Threshold: |z| > 3.0\n",
      "Outliers found: 1 out of 30 rows\n",
      "Indices of outliers: [7]\n",
      "\n",
      "Outlier rows (preview):\n",
      "   Order Value  Customer Rating  Shipping Time (Days)\n",
      "7        700.0         3.020165                     8\n",
      "\n",
      "=== Data After Removing Outliers ===\n",
      "New shape: (29, 3)\n"
     ]
    }
   ],
   "source": [
    "## Z-Score\n",
    "\n",
    "# We should impute before Z-scores so NaNs don't propagate. Median is robust, so we'll use df_fill_median.\n",
    "df_for_outliers = df_fill_median.copy()  # Choose the imputed dataset to analyze\n",
    "numeric_cols = df_for_outliers.select_dtypes(include='number').columns  # numeric columns only\n",
    "\n",
    "# Compute Z-scores per column manually (equivalent to scipy.stats.zscore with nan_policy='omit')\n",
    "# z = (x - mean) / std ; ddof=0 for population std is fine here\n",
    "means = df_for_outliers[numeric_cols].mean()\n",
    "stds = df_for_outliers[numeric_cols].std(ddof=0)\n",
    "\n",
    "# Avoid division by zero in constant columns\n",
    "stds_replaced = stds.replace(0, np.nan)\n",
    "\n",
    "# Compute absolute Z-score DataFrame (rows x numeric columns)\n",
    "z_df = (df_for_outliers[numeric_cols] - means) / stds_replaced\n",
    "abs_z_df = z_df.abs()\n",
    "\n",
    "# Choose threshold for \\\"extreme\\\" (common choice: 3.0 standard deviations)\n",
    "z_thresh = 3.0  # Fixed: removed the extra space at the beginning of this line\n",
    "\n",
    "# A row is considered an outlier if ANY numeric feature exceeds the threshold\n",
    "outlier_mask = (abs_z_df > z_thresh).any(axis=1)\n",
    "outliers_found = df_for_outliers[outlier_mask]\n",
    "df_no_outliers = df_for_outliers[~outlier_mask]\n",
    "\n",
    "print(\"n=== Z-Score Outlier Detection (on MEDIAN-imputed data) ===\")\n",
    "print(f\"Threshold: |z| > {z_thresh}\")\n",
    "print(f\"Outliers found: {outliers_found.shape[0]} out of {df_for_outliers.shape[0]} rows\")\n",
    "print(\"Indices of outliers:\", outliers_found.index.tolist())\n",
    "print(\"\\nOutlier rows (preview):\")\n",
    "print(outliers_found.head())\n",
    "\n",
    "print(\"\\n=== Data After Removing Outliers ===\")\n",
    "print(\"New shape:\", df_no_outliers.shape)"
   ]
  },
  {
   "cell_type": "code",
   "execution_count": null,
   "id": "d4cac812-e221-4eee-8dd6-bc5c2b85eb69",
   "metadata": {},
   "outputs": [],
   "source": []
  }
 ],
 "metadata": {
  "kernelspec": {
   "display_name": "anaconda-2024.02-py310",
   "language": "python",
   "name": "conda-env-anaconda-2024.02-py310-py"
  },
  "language_info": {
   "codemirror_mode": {
    "name": "ipython",
    "version": 3
   },
   "file_extension": ".py",
   "mimetype": "text/x-python",
   "name": "python",
   "nbconvert_exporter": "python",
   "pygments_lexer": "ipython3",
   "version": "3.10.14"
  },
  "panel-cell-order": [
   "f6116eda-8145-4465-82a2-07ef3f1d2b5f",
   "a2f6aca7-51ad-4f02-a14f-58859ed10784"
  ]
 },
 "nbformat": 4,
 "nbformat_minor": 5
}
